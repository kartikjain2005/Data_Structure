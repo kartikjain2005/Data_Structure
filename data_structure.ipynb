{
  "nbformat": 4,
  "nbformat_minor": 0,
  "metadata": {
    "colab": {
      "provenance": []
    },
    "kernelspec": {
      "name": "python3",
      "display_name": "Python 3"
    },
    "language_info": {
      "name": "python"
    }
  },
  "cells": [
    {
      "cell_type": "markdown",
      "source": [
        "1. **What are data structures, and why are they important?**\n",
        "- Data structure are used to manage , organize , store the data in a structured way so that we can use the memory more efficient way\n",
        "and it is important because we can efficiently access the data like searching, sorting  and by better algorithm we can make our code faster as well as in less memory and by the help of datastructure logic building improve\n",
        "---"
      ],
      "metadata": {
        "id": "OobjuJ5aK8-c"
      }
    },
    {
      "cell_type": "markdown",
      "source": [
        "2. **Explain the difference between mutable and immutable data types with examples ?**\n",
        "- Mutable datatypes are the datatypes in which we can make changes or we can say that these data types can be change at runtime\n",
        " - example : list , dictionary , sets\n",
        " - list_1 = [1, 2, 3, 4]   #list\n",
        " - set_1 = {1, 2, 3, 4}    # set\n",
        " - dictionary_1 = {1:\"apple\", 2: \"banana\"} #dictionary\n",
        "\n",
        "\n",
        "```\n",
        "# This is formatted as code\n",
        "list_1 = [1, 2, 3, 4]\n",
        "list[0] = 6\n",
        "print(list_1)\n",
        "\n",
        "\n",
        "output :\n",
        "[6, 2, 3, 4]\n",
        "```\n",
        "\n",
        "\n",
        "- immutable datatypes are the datatypes in which we can not makes changes at runtime\n",
        " - example : string , tuples\n",
        " - string_1 = \"Kartik Jain\"\n",
        " - tuple_1 = (1, 2, 3, 4)\n",
        "---"
      ],
      "metadata": {
        "id": "mw-qo0LZLa9y"
      }
    },
    {
      "cell_type": "markdown",
      "source": [
        "3. **What are the main differences between lists and tuples in Python?**\n",
        "- the main difference between list and tuples are as follow\n",
        "\n",
        "\n",
        "\n",
        " 1.   List :\n",
        "  - It is mutable datatype\n",
        "  - it is represented with [ ] (square brackets)\n",
        "  - we can make changes in runtime\n",
        " 2.   Tuple :\n",
        "  - It is immutable datatype\n",
        "  - it is represented as ( ) (paranethesis)\n",
        "  - we can not make changes at run time\n",
        "\n",
        "---\n",
        "\n",
        "\n",
        "\n"
      ],
      "metadata": {
        "id": "nTov30EHQG3Y"
      }
    },
    {
      "cell_type": "markdown",
      "source": [
        "4. **Describe how dictionaries store data?**\n",
        "- Dictionary stores the data in key - value pair in this pair each key is unique and each kay pointed to a soecific value\n",
        "\n",
        "```\n",
        "# example :\n",
        "student_details = {\"name\" : \"kartik\" , \"age\" : 20 , \"course\" : \"DataScience\"}\n",
        "\n",
        "```\n",
        "---"
      ],
      "metadata": {
        "id": "XHslR9LCRsre"
      }
    },
    {
      "cell_type": "markdown",
      "source": [
        "5. **Why might you use a set instead of a list in Python?**\n",
        "- List ans Set both are used to store the data but we use set instead of list in python because when we don't want the duplicates value we use set instead of lists as well as if we don't care about the order then also we use the set instead of list because set is more faster then list\n",
        "---"
      ],
      "metadata": {
        "id": "LxnBHPhPXKuM"
      }
    },
    {
      "cell_type": "markdown",
      "source": [
        "6. **What is a string in Python, and how is it different from a list?**\n",
        "- string in python is used to store the character but in list we can store any datatype in a single list we can store character, integer , float , boolean , etc example\n",
        " - list_1 = [1, \"kartik\", True, 2.6 , 3+7j]\n",
        "- but in string we can only store the characters and list is mutable we can make the changes at runtime but in string we can not make the changes at runtime because string is immutable\n",
        " - example\n",
        " - str_1 = \"Kartik jain\"\n",
        "---\n",
        "\n"
      ],
      "metadata": {
        "id": "2514ynarYNco"
      }
    },
    {
      "cell_type": "markdown",
      "source": [
        "7. **How do tuples ensure data integrity in Python ?**\n",
        "- As we know tuple is immutable so that it can help to ensure the data integrity because we can not change the data because it is immutable and it protect data to change  \n",
        "\n",
        "---"
      ],
      "metadata": {
        "id": "VczBtIA5ZlKq"
      }
    },
    {
      "cell_type": "markdown",
      "source": [
        "8. **What is a hash table, and how does it relate to dictionaries in Python ?**\n",
        "- Hash table is a datastructure used to store the data in key value pair\n",
        "\n",
        "\n",
        "```\n",
        "# This is formatted as code\n",
        "student = {\n",
        "    \"name\": \"Kartik\",\n",
        "    \"age\": 20,\n",
        "    \"branch\": \"IT\"\n",
        "}\n",
        "\n",
        "print(student[\"name\"])    \n",
        "\n",
        "\n",
        "Output: Kartik\n",
        "\n",
        "```\n",
        "---\n",
        "\n"
      ],
      "metadata": {
        "id": "y41dFMDGasO3"
      }
    },
    {
      "cell_type": "markdown",
      "source": [
        "9. **Can lists contain different data types in Python?**\n",
        "- yes list can contain different datatypes in python\n",
        "---"
      ],
      "metadata": {
        "id": "CbJSAHQ9dxjT"
      }
    },
    {
      "cell_type": "markdown",
      "source": [
        "10. **Explain why strings are immutable in Python?**\n",
        "- immutable strings help to use the memory efficient\n",
        "  - ex :\n",
        "    - a = \"hello\"\n",
        "    - b = \"hello\"\n",
        "  they both use the same memory\n",
        "- they can be hash easily\n",
        "- because of immutability they are secure we can not accidently change the data\n",
        "---\n"
      ],
      "metadata": {
        "id": "di6zCwdveKWj"
      }
    },
    {
      "cell_type": "markdown",
      "source": [
        "11. **What advantages do dictionaries offer over lists for certain tasks ?**\n",
        "-  it uses keys like \"name\", \"age\" etc but in list it uses indexces\n",
        "- dictionaries are faster then list because it searches by meaningful keys but list acess by position\n",
        "- dictionary are more organies as compare to list\n",
        "---"
      ],
      "metadata": {
        "id": "4gOdXlOgffoI"
      }
    },
    {
      "cell_type": "markdown",
      "source": [
        "12. **Describe a scenario where using a tuple would be preferable over a list?**\n",
        "- when we want to store the data unchangable\n",
        "\n",
        "```\n",
        "location = (28.6139, 77.2090)  # Tuple\n",
        "```\n",
        "\n",
        "\n",
        "- it has faster operation then listc\n",
        "-it is hashable\n",
        "---\n"
      ],
      "metadata": {
        "id": "DSxD-0y8g12X"
      }
    },
    {
      "cell_type": "markdown",
      "source": [
        "13. **How do sets handle duplicate values in Python?**\n",
        "- In Python, a set is a collection of unique elements — it automatically removes duplicates.\n",
        "---"
      ],
      "metadata": {
        "id": "IXGjM_9hh_oR"
      }
    },
    {
      "cell_type": "markdown",
      "source": [
        "14. **How does the “in” keyword work differently for lists and dictionaries?**\n",
        "- List -\n",
        " - The in keyword checks whether a value exists in the list.\n",
        "\n",
        "\n",
        "```\n",
        "# This is formatted as code\n",
        "my_list = [10, 20, 30]\n",
        "print(20 in my_list)    \n",
        "print(40 in my_list)   \n",
        "\n",
        "```\n",
        "- Dictionary -\n",
        " - the in keyword checks whether a key exist in a dictionary or not\n",
        "\n",
        "\n",
        "```\n",
        "# This is formatted as code\n",
        "my_dict = {\"name\": \"Kartik\", \"age\": 19}\n",
        "print(\"name\" in my_dict)    \n",
        "print(\"Kartik\" in my_dict)  # it will return error because kartik is a value and in keyword is not used for value only for keys  \n",
        "\n",
        "```\n",
        "---\n",
        "\n",
        "\n"
      ],
      "metadata": {
        "id": "HbljRofiii0c"
      }
    },
    {
      "cell_type": "markdown",
      "source": [
        "15. **Can you modify the elements of a tuple? Explain why or why not**\n",
        "- no we can not change or modify the element of a tuple because it is immutable we can change only by making new tuple but can not change the old one\n",
        "---\n"
      ],
      "metadata": {
        "id": "QBxFp_Qmj7Hg"
      }
    },
    {
      "cell_type": "markdown",
      "source": [
        "16. **What is a nested dictionary, and give an example of its use case?**\n",
        "- A nested dictionary is a dictionary inside a dictionary it allows you to store in  heirarichal structure\n",
        "example :\n",
        "\n",
        "\n",
        "```\n",
        "# This is formatted as code\n",
        "students = {\n",
        "    \"101\": {\"name\": \"Rahul\", \"age\": 20, \"marks\": 85},\n",
        "    \"102\": {\"name\": \"Anjali\", \"age\": 21, \"marks\": 92},\n",
        "    \"103\": {\"name\": \"Vikram\", \"age\": 19, \"marks\": 78}\n",
        "}\n",
        "\n",
        "```\n",
        "---\n"
      ],
      "metadata": {
        "id": "yth50M0Ykgk1"
      }
    },
    {
      "cell_type": "markdown",
      "source": [
        "17. **Describe the time complexity of accessing elements in a dictionary?**\n",
        "- the complexity of accessing element in a dictionary is O(1) which is fast because it access the elements by meaningful keys\n",
        "---"
      ],
      "metadata": {
        "id": "wpbSfqJqEkHE"
      }
    },
    {
      "cell_type": "markdown",
      "source": [
        "18. **In what situations are lists preferred over dictionaries?**\n",
        "- when we dont want to store the element in key value pairs\n",
        "- when the order of data is matter we prefer lists\n",
        "- when we iterate through the element in order\n",
        "- generally list uses less memory then dictionary\n",
        "---"
      ],
      "metadata": {
        "id": "16T-HR4VFxew"
      }
    },
    {
      "cell_type": "markdown",
      "source": [
        "19. **Why are dictionaries considered unordered, and how does that affect data retrieval?**\n",
        "- Before Python 3.7, dictionaries were unordered — meaning:\n",
        "\n",
        "The order in which you insert key-value pairs was not preserved when you accessed or printed the dictionary.\n",
        "- and it affect data retrival that we Cannot Access Elements by Position\n",
        "---"
      ],
      "metadata": {
        "id": "5Z9ScWjEG9b0"
      }
    },
    {
      "cell_type": "markdown",
      "source": [
        "20. **Explain the difference between a list and a dictionary in terms of data retrieval.**\n",
        "- in list we can access by indexing but in dictionary we can access by keys\n",
        "-list is slower then dictionary because dictionary access it by keys but the list access by index so list took more time\n",
        "-List is good for ordered sequnce but dictionary is good for mapping sequence\n",
        "---"
      ],
      "metadata": {
        "id": "i9itxbDWJBFw"
      }
    },
    {
      "cell_type": "markdown",
      "source": [
        "# PRACTICAL QUESTIONS :-\n"
      ],
      "metadata": {
        "id": "SDodVagxKYJS"
      }
    },
    {
      "cell_type": "markdown",
      "source": [
        "1. **Write a code to create a string with your name and print it?**"
      ],
      "metadata": {
        "id": "JB8JIYN4KiUJ"
      }
    },
    {
      "cell_type": "code",
      "source": [
        "str_1 = \"Kartik\"\n",
        "print(str_1)"
      ],
      "metadata": {
        "colab": {
          "base_uri": "https://localhost:8080/"
        },
        "id": "0foATwhWKrBU",
        "outputId": "0c8503b0-e8e4-4ee6-e98b-acd29061e669"
      },
      "execution_count": 1,
      "outputs": [
        {
          "output_type": "stream",
          "name": "stdout",
          "text": [
            "Kartik\n"
          ]
        }
      ]
    },
    {
      "cell_type": "markdown",
      "source": [
        "2. **Write a code to find the length of the string \"Hello World\"?**"
      ],
      "metadata": {
        "id": "DTN1g6fOK_1C"
      }
    },
    {
      "cell_type": "code",
      "source": [
        "a = \"Hello Worlds\"\n",
        "print(len(a))"
      ],
      "metadata": {
        "colab": {
          "base_uri": "https://localhost:8080/"
        },
        "id": "ejhkrZI1LJnG",
        "outputId": "45f5a63a-2613-460d-c49e-f2d9be56ecc2"
      },
      "execution_count": 2,
      "outputs": [
        {
          "output_type": "stream",
          "name": "stdout",
          "text": [
            "12\n"
          ]
        }
      ]
    },
    {
      "cell_type": "markdown",
      "source": [
        "3. **Write a code to slice the first 3 characters from the string \"Python Programming\"?**"
      ],
      "metadata": {
        "id": "aCY6ZzYULf2m"
      }
    },
    {
      "cell_type": "code",
      "source": [
        "text = \"Python Programming\"\n",
        "s = slice(0,3)\n",
        "print(text[s])"
      ],
      "metadata": {
        "colab": {
          "base_uri": "https://localhost:8080/"
        },
        "id": "-m5ZoOdwL_oB",
        "outputId": "90c0c0f4-b037-43b8-8502-f734dfe387ec"
      },
      "execution_count": 6,
      "outputs": [
        {
          "output_type": "stream",
          "name": "stdout",
          "text": [
            "Pyt\n"
          ]
        }
      ]
    },
    {
      "cell_type": "markdown",
      "source": [
        "4. **Write a code to convert the string \"hello\" to uppercase?**"
      ],
      "metadata": {
        "id": "BXBHqZyeMk-5"
      }
    },
    {
      "cell_type": "code",
      "source": [
        "str_1 = \"hello\"\n",
        "str_2 = str_1.upper()\n",
        "print(str_2)\n"
      ],
      "metadata": {
        "colab": {
          "base_uri": "https://localhost:8080/"
        },
        "id": "v2rAQPB4MqHD",
        "outputId": "e33d7958-fefa-40f7-8ef3-3260453949c4"
      },
      "execution_count": 15,
      "outputs": [
        {
          "output_type": "stream",
          "name": "stdout",
          "text": [
            "HELLO\n"
          ]
        }
      ]
    },
    {
      "cell_type": "markdown",
      "source": [
        "5. **Write a code to replace the word \"apple\" with \"orange\" in the string \"I like apple\"?**"
      ],
      "metadata": {
        "id": "wQXRCw6RNUjM"
      }
    },
    {
      "cell_type": "code",
      "source": [
        "text_1 = \"I like apple\"\n",
        "text_2 = text_1.replace(\"apple\" , \"orange\")\n",
        "print(text_2)"
      ],
      "metadata": {
        "colab": {
          "base_uri": "https://localhost:8080/"
        },
        "id": "No8F7tpSN0ak",
        "outputId": "b1454802-47b6-4c1f-eb72-582f3648f109"
      },
      "execution_count": 16,
      "outputs": [
        {
          "output_type": "stream",
          "name": "stdout",
          "text": [
            "I like orange\n"
          ]
        }
      ]
    },
    {
      "cell_type": "markdown",
      "source": [
        "6. **Write a code to create a list with numbers 1 to 5 and print it?**"
      ],
      "metadata": {
        "id": "12Nt_9-FN3CE"
      }
    },
    {
      "cell_type": "code",
      "source": [
        "number = [1, 2, 3, 4, 5]\n",
        "print(number)\n"
      ],
      "metadata": {
        "colab": {
          "base_uri": "https://localhost:8080/"
        },
        "id": "YHeoifewOC8K",
        "outputId": "b09587ca-068c-495a-86a2-343d950d56d3"
      },
      "execution_count": 17,
      "outputs": [
        {
          "output_type": "stream",
          "name": "stdout",
          "text": [
            "[1, 2, 3, 4, 5]\n"
          ]
        }
      ]
    },
    {
      "cell_type": "markdown",
      "source": [
        "7.**Write a code to append the number 10 to the list [1, 2, 3, 4]?**"
      ],
      "metadata": {
        "id": "jX66TlX6OK40"
      }
    },
    {
      "cell_type": "code",
      "source": [
        "num = [1, 2, 3, 4]\n",
        "num.append(10)\n",
        "print(num)"
      ],
      "metadata": {
        "colab": {
          "base_uri": "https://localhost:8080/"
        },
        "id": "x5h_fh80OUwL",
        "outputId": "4a110c2d-caba-4931-bced-c2fad99eef26"
      },
      "execution_count": 18,
      "outputs": [
        {
          "output_type": "stream",
          "name": "stdout",
          "text": [
            "[1, 2, 3, 4, 10]\n"
          ]
        }
      ]
    },
    {
      "cell_type": "markdown",
      "source": [
        "8. **Write a code to remove the number 3 from the list [1, 2, 3, 4, 5]?**"
      ],
      "metadata": {
        "id": "NsGWzdHKOkKP"
      }
    },
    {
      "cell_type": "code",
      "source": [
        "num = [1, 2, 3, 4, 5]\n",
        "num.remove(3)\n",
        "print(num)"
      ],
      "metadata": {
        "colab": {
          "base_uri": "https://localhost:8080/"
        },
        "id": "Fj1RfKg2Oxdl",
        "outputId": "d103096f-bfa9-4d4c-a738-3f4de1e26b7e"
      },
      "execution_count": 19,
      "outputs": [
        {
          "output_type": "stream",
          "name": "stdout",
          "text": [
            "[1, 2, 4, 5]\n"
          ]
        }
      ]
    },
    {
      "cell_type": "markdown",
      "source": [
        "9. **Write a code to access the second element in the list ['a', 'b', 'c', 'd']?**"
      ],
      "metadata": {
        "id": "kS4Qgzl7O-1E"
      }
    },
    {
      "cell_type": "code",
      "source": [
        "list_1 = ['a','b','c','d']\n",
        "list_1[1]"
      ],
      "metadata": {
        "colab": {
          "base_uri": "https://localhost:8080/",
          "height": 36
        },
        "id": "CmkHeKGJPHc4",
        "outputId": "063495a5-df25-441f-a6dd-3204a671e728"
      },
      "execution_count": 20,
      "outputs": [
        {
          "output_type": "execute_result",
          "data": {
            "text/plain": [
              "'b'"
            ],
            "application/vnd.google.colaboratory.intrinsic+json": {
              "type": "string"
            }
          },
          "metadata": {},
          "execution_count": 20
        }
      ]
    },
    {
      "cell_type": "markdown",
      "source": [
        "10. **Write a code to reverse the list [10, 20, 30, 40, 50]**"
      ],
      "metadata": {
        "id": "aMezAiBkPc6C"
      }
    },
    {
      "cell_type": "code",
      "source": [
        "list_1 = [10, 20, 30, 40, 50]\n",
        "list_1[::-1]"
      ],
      "metadata": {
        "colab": {
          "base_uri": "https://localhost:8080/"
        },
        "id": "WyfsjXILPkFF",
        "outputId": "82e9f955-87e6-4c2d-939c-2d3215b4f6d1"
      },
      "execution_count": 21,
      "outputs": [
        {
          "output_type": "execute_result",
          "data": {
            "text/plain": [
              "[50, 40, 30, 20, 10]"
            ]
          },
          "metadata": {},
          "execution_count": 21
        }
      ]
    },
    {
      "cell_type": "markdown",
      "source": [
        "11. **Write a code to create a tuple with the elements 100, 200, 300 and print it**"
      ],
      "metadata": {
        "id": "9J_rBYMiP6Jf"
      }
    },
    {
      "cell_type": "code",
      "source": [
        "tup = (100, 200, 300)\n",
        "print(tup)\n"
      ],
      "metadata": {
        "colab": {
          "base_uri": "https://localhost:8080/"
        },
        "id": "qwyEVaHOQEoP",
        "outputId": "517ebbec-646b-453d-bb33-2494e00caaed"
      },
      "execution_count": 22,
      "outputs": [
        {
          "output_type": "stream",
          "name": "stdout",
          "text": [
            "(100, 200, 300)\n"
          ]
        }
      ]
    },
    {
      "cell_type": "markdown",
      "source": [
        "12. Write a code to access the second-to-last element of the tuple ('red', 'green', 'blue', 'yellow')"
      ],
      "metadata": {
        "id": "AywLnY99QOFh"
      }
    },
    {
      "cell_type": "code",
      "source": [
        "tup = ('red','green','blue','yellow')\n",
        "tup[1::]"
      ],
      "metadata": {
        "colab": {
          "base_uri": "https://localhost:8080/"
        },
        "id": "YsDEw5u2Qk7j",
        "outputId": "0d358085-f420-4b27-dfcf-6af51a2b523a"
      },
      "execution_count": 24,
      "outputs": [
        {
          "output_type": "execute_result",
          "data": {
            "text/plain": [
              "('green', 'blue', 'yellow')"
            ]
          },
          "metadata": {},
          "execution_count": 24
        }
      ]
    },
    {
      "cell_type": "markdown",
      "source": [
        "13. **Write a code to find the minimum number in the tuple (10, 20, 5, 15).?**"
      ],
      "metadata": {
        "id": "RgrNRt0JRGAX"
      }
    },
    {
      "cell_type": "code",
      "source": [
        "tuple_1 = (10, 20, 5, 15)\n",
        "min_1 = min(tuple_1)\n",
        "print(min_1)\n"
      ],
      "metadata": {
        "colab": {
          "base_uri": "https://localhost:8080/"
        },
        "id": "M1oUXQ0jRgnI",
        "outputId": "155d9d56-ec4c-457e-84cf-083617749450"
      },
      "execution_count": 27,
      "outputs": [
        {
          "output_type": "stream",
          "name": "stdout",
          "text": [
            "5\n"
          ]
        }
      ]
    },
    {
      "cell_type": "markdown",
      "source": [
        "14. **Write a code to find the index of the element \"cat\" in the tuple ('dog', 'cat', 'rabbit')**"
      ],
      "metadata": {
        "id": "qxNOvChSSOC4"
      }
    },
    {
      "cell_type": "code",
      "source": [
        "animmal = ('dog' , 'cat' , 'rabbit')\n",
        "index_cat = animmal.index('cat')\n",
        "print(index_cat)"
      ],
      "metadata": {
        "colab": {
          "base_uri": "https://localhost:8080/"
        },
        "id": "KYlnrEASSnjq",
        "outputId": "bed70cb7-7092-44c9-81c1-e3f5c03230c2"
      },
      "execution_count": 28,
      "outputs": [
        {
          "output_type": "stream",
          "name": "stdout",
          "text": [
            "1\n"
          ]
        }
      ]
    },
    {
      "cell_type": "markdown",
      "source": [
        "15. **Write a code to create a tuple containing three different fruits and check if \"kiwi\" is in it**"
      ],
      "metadata": {
        "id": "OU8aMJUETIlI"
      }
    },
    {
      "cell_type": "code",
      "source": [
        "fruits = (\"apple\" , \"banana\" , \"kiwi\")\n",
        "print(\"kiwi\" in fruits)"
      ],
      "metadata": {
        "colab": {
          "base_uri": "https://localhost:8080/"
        },
        "id": "MXnsE0_7TXPD",
        "outputId": "dd84c9e5-9354-4670-c1ba-71833eccf669"
      },
      "execution_count": 30,
      "outputs": [
        {
          "output_type": "stream",
          "name": "stdout",
          "text": [
            "True\n"
          ]
        }
      ]
    },
    {
      "cell_type": "markdown",
      "source": [
        "16. **Write a code to create a set with the elements 'a', 'b', 'c' and print it**"
      ],
      "metadata": {
        "id": "TyVIVQQTT1id"
      }
    },
    {
      "cell_type": "code",
      "source": [
        "s1 = {'a','b','c'}\n",
        "print(s1)"
      ],
      "metadata": {
        "colab": {
          "base_uri": "https://localhost:8080/"
        },
        "id": "6wksxENfT90M",
        "outputId": "a2eac142-0c2c-471e-939e-f5678cc03f0a"
      },
      "execution_count": 31,
      "outputs": [
        {
          "output_type": "stream",
          "name": "stdout",
          "text": [
            "{'a', 'b', 'c'}\n"
          ]
        }
      ]
    },
    {
      "cell_type": "markdown",
      "source": [
        "17. **Write a code to clear all elements from the set {1, 2, 3, 4, 5}.**"
      ],
      "metadata": {
        "id": "hbIAXPBpVCT-"
      }
    },
    {
      "cell_type": "code",
      "source": [
        "s1 = {1, 2, 3, 4, 5}\n",
        "s1.clear()\n",
        "print(s1)"
      ],
      "metadata": {
        "colab": {
          "base_uri": "https://localhost:8080/"
        },
        "id": "HLnuOyL9VFPJ",
        "outputId": "51de3709-d647-4961-ebc0-f99652f4816d"
      },
      "execution_count": 34,
      "outputs": [
        {
          "output_type": "stream",
          "name": "stdout",
          "text": [
            "set()\n"
          ]
        }
      ]
    },
    {
      "cell_type": "markdown",
      "source": [
        "18. **Write a code to remove the element 4 from the set {1, 2, 3, 4}.**"
      ],
      "metadata": {
        "id": "Y3qd7FvVVauW"
      }
    },
    {
      "cell_type": "code",
      "source": [
        "s1 = {1, 2, 3, 4}\n",
        "s1.remove(4)\n",
        "print(s1)"
      ],
      "metadata": {
        "colab": {
          "base_uri": "https://localhost:8080/"
        },
        "id": "TN7zaCfWVihN",
        "outputId": "4070da9b-db9d-4ff1-ddba-3af5974037a8"
      },
      "execution_count": 35,
      "outputs": [
        {
          "output_type": "stream",
          "name": "stdout",
          "text": [
            "{1, 2, 3}\n"
          ]
        }
      ]
    },
    {
      "cell_type": "markdown",
      "source": [
        "19. **Write a code to find the union of two sets {1, 2, 3} and {3, 4, 5}**"
      ],
      "metadata": {
        "id": "3d-uSP9KVwiP"
      }
    },
    {
      "cell_type": "code",
      "source": [
        "s1 = {1, 2, 3}\n",
        "s2 = {3, 4, 5}\n",
        "s1 | s2"
      ],
      "metadata": {
        "colab": {
          "base_uri": "https://localhost:8080/"
        },
        "id": "aqF-1_54V4pB",
        "outputId": "25474082-560a-4396-e609-2930a252bd5f"
      },
      "execution_count": 37,
      "outputs": [
        {
          "output_type": "execute_result",
          "data": {
            "text/plain": [
              "{1, 2, 3, 4, 5}"
            ]
          },
          "metadata": {},
          "execution_count": 37
        }
      ]
    },
    {
      "cell_type": "markdown",
      "source": [
        "20. **Write a code to find the intersection of two sets {1, 2, 3} and {2, 3, 4}**"
      ],
      "metadata": {
        "id": "Ee5eLQ1ZWJ07"
      }
    },
    {
      "cell_type": "code",
      "source": [
        "s1 = {1, 2, 3}\n",
        "s2 = {2, 3, 4}\n",
        "s1 & s2"
      ],
      "metadata": {
        "colab": {
          "base_uri": "https://localhost:8080/"
        },
        "id": "mwQBrEY_WPd_",
        "outputId": "827119df-552c-4bb7-a93b-0ba889b99b98"
      },
      "execution_count": 38,
      "outputs": [
        {
          "output_type": "execute_result",
          "data": {
            "text/plain": [
              "{2, 3}"
            ]
          },
          "metadata": {},
          "execution_count": 38
        }
      ]
    },
    {
      "cell_type": "markdown",
      "source": [
        "21.  **Write a code to create a dictionary with the keys \"name\", \"age\", and \"city\", and print it**"
      ],
      "metadata": {
        "id": "Xa4GjQSAWcOI"
      }
    },
    {
      "cell_type": "code",
      "source": [
        "dic_1 = {\"name\" : \"kartik\" , \"age\" : 20 , \"city\" : \"delhi\"}\n",
        "print(dic_1)"
      ],
      "metadata": {
        "colab": {
          "base_uri": "https://localhost:8080/"
        },
        "id": "ZU93dd4KXTfl",
        "outputId": "1987c668-fb55-41c9-9539-df0d1410c3ea"
      },
      "execution_count": 39,
      "outputs": [
        {
          "output_type": "stream",
          "name": "stdout",
          "text": [
            "{'name': 'kartik', 'age': 20, 'city': 'delhi'}\n"
          ]
        }
      ]
    },
    {
      "cell_type": "markdown",
      "source": [
        "22.  **Write a code to add a new key-value pair \"country\": \"USA\" to the dictionary {'name': 'John', 'age': 25}.**"
      ],
      "metadata": {
        "id": "iaqlKnuyYHRx"
      }
    },
    {
      "cell_type": "code",
      "source": [
        "dic_1 = {\"name\" : \"john\" , 'age' : 25}\n",
        "dic_1[\"country\"] = \"USA\"\n",
        "print(dic_1)"
      ],
      "metadata": {
        "colab": {
          "base_uri": "https://localhost:8080/"
        },
        "id": "N9LYaE2BYg4B",
        "outputId": "fc22d065-08a3-46d9-c96a-438dc175b8a8"
      },
      "execution_count": 40,
      "outputs": [
        {
          "output_type": "stream",
          "name": "stdout",
          "text": [
            "{'name': 'john', 'age': 25, 'country': 'USA'}\n"
          ]
        }
      ]
    },
    {
      "cell_type": "markdown",
      "source": [
        "23. **Write a code to access the value associated with the key \"name\" in the dictionary {'name': 'Alice', 'age': 30}**"
      ],
      "metadata": {
        "id": "VKURcrvWY_3V"
      }
    },
    {
      "cell_type": "code",
      "source": [
        "dic_1 = {'name': 'Alice', 'age': 30}\n",
        "dic_1[\"name\"]"
      ],
      "metadata": {
        "colab": {
          "base_uri": "https://localhost:8080/",
          "height": 36
        },
        "id": "tMO_FflxZFbG",
        "outputId": "a44e73f9-fcdd-4868-ae40-58540e65edab"
      },
      "execution_count": 41,
      "outputs": [
        {
          "output_type": "execute_result",
          "data": {
            "text/plain": [
              "'Alice'"
            ],
            "application/vnd.google.colaboratory.intrinsic+json": {
              "type": "string"
            }
          },
          "metadata": {},
          "execution_count": 41
        }
      ]
    },
    {
      "cell_type": "markdown",
      "source": [
        "24. **Write a code to remove the key \"age\" from the dictionary {'name': 'Bob', 'age': 22, 'city': 'New York'}**"
      ],
      "metadata": {
        "id": "VhY6T20IZdA0"
      }
    },
    {
      "cell_type": "code",
      "source": [
        "dic_1 = {'name': 'Bob', 'age': 22, 'city': 'New York'}\n",
        "dic_1.pop(\"age\")\n",
        "print(dic_1)"
      ],
      "metadata": {
        "colab": {
          "base_uri": "https://localhost:8080/"
        },
        "id": "SwEvZUfSZnqZ",
        "outputId": "971bb9b6-acb7-4908-b0d0-be9dc341c8e9"
      },
      "execution_count": 42,
      "outputs": [
        {
          "output_type": "stream",
          "name": "stdout",
          "text": [
            "{'name': 'Bob', 'city': 'New York'}\n"
          ]
        }
      ]
    },
    {
      "cell_type": "markdown",
      "source": [
        "25. **Write a code to check if the key \"city\" exists in the dictionary {'name': 'Alice', 'city': 'Paris'}**"
      ],
      "metadata": {
        "id": "48AQs7qaaK06"
      }
    },
    {
      "cell_type": "code",
      "source": [
        "dic_1 = {'name' : 'Alice' , 'city': 'paris'}\n",
        "print(\"city\" in dic_1)"
      ],
      "metadata": {
        "colab": {
          "base_uri": "https://localhost:8080/"
        },
        "id": "kNG_xaZpaQ2e",
        "outputId": "dcf09348-aac7-4cfa-8d81-d6a0919f44cb"
      },
      "execution_count": 43,
      "outputs": [
        {
          "output_type": "stream",
          "name": "stdout",
          "text": [
            "True\n"
          ]
        }
      ]
    },
    {
      "cell_type": "markdown",
      "source": [
        " 26. **Write a code to create a list, a tuple, and a dictionary, and print them all.**"
      ],
      "metadata": {
        "id": "FKwZdgyfazPU"
      }
    },
    {
      "cell_type": "code",
      "source": [
        "lis_1 = [1, 2, 3, 4]\n",
        "print(lis_1)\n",
        "tup_1 = (1, 2, 3, 4)\n",
        "print(tup_1)\n",
        "dic_1 = {\"name\" : \"kartik\" , \"age\" : 20 , \"city\" : \"delhi\"}\n",
        "print(dic_1)\n"
      ],
      "metadata": {
        "colab": {
          "base_uri": "https://localhost:8080/"
        },
        "id": "Da-J-JOEa8iX",
        "outputId": "0f3d7582-c5d2-4060-efaa-65778ae62b24"
      },
      "execution_count": 44,
      "outputs": [
        {
          "output_type": "stream",
          "name": "stdout",
          "text": [
            "[1, 2, 3, 4]\n",
            "(1, 2, 3, 4)\n",
            "{'name': 'kartik', 'age': 20, 'city': 'delhi'}\n"
          ]
        }
      ]
    },
    {
      "cell_type": "markdown",
      "source": [
        "27. **Write a code to create a list of 5 random numbers between 1 and 100, sort it in ascending order, and print the\n",
        "result.(replaced)**"
      ],
      "metadata": {
        "id": "4hFH_7kzbaKq"
      }
    },
    {
      "cell_type": "code",
      "source": [
        "lis_1 = [1, 45, 20, 86]\n",
        "lis_1.sort()\n",
        "print(lis_1)"
      ],
      "metadata": {
        "colab": {
          "base_uri": "https://localhost:8080/"
        },
        "id": "ngtrKGmWbick",
        "outputId": "0f65e7b1-3443-49ad-cddb-00854badab79"
      },
      "execution_count": 46,
      "outputs": [
        {
          "output_type": "stream",
          "name": "stdout",
          "text": [
            "[1, 20, 45, 86]\n"
          ]
        }
      ]
    },
    {
      "cell_type": "markdown",
      "source": [
        "28. **Write a code to create a list with strings and print the element at the third index**"
      ],
      "metadata": {
        "id": "lfPL3j2AcFYC"
      }
    },
    {
      "cell_type": "code",
      "source": [
        "fruits = [\"apple\" ,\"banana\", \"watermelon\", \"orange\", \"kiwi\"]\n",
        "print(fruits[3])"
      ],
      "metadata": {
        "colab": {
          "base_uri": "https://localhost:8080/"
        },
        "id": "x6KAvDUlcMq9",
        "outputId": "6752ad61-a219-40ff-a524-c36cb38b2056"
      },
      "execution_count": 47,
      "outputs": [
        {
          "output_type": "stream",
          "name": "stdout",
          "text": [
            "orange\n"
          ]
        }
      ]
    },
    {
      "cell_type": "markdown",
      "source": [
        "29. **Write a code to combine two dictionaries into one and print the result.**"
      ],
      "metadata": {
        "id": "90KOptPMcwVZ"
      }
    },
    {
      "cell_type": "code",
      "source": [
        "dict1 = {'a': 1, 'b': 2}\n",
        "dict2 = {'c': 3, 'd': 4}\n",
        "\n",
        "combined = dict1 | dict2\n",
        "print(combined)\n"
      ],
      "metadata": {
        "colab": {
          "base_uri": "https://localhost:8080/"
        },
        "id": "gu7kC_sFc4MD",
        "outputId": "0c2891b6-b5cd-4111-cba1-174e599a4f80"
      },
      "execution_count": 48,
      "outputs": [
        {
          "output_type": "stream",
          "name": "stdout",
          "text": [
            "{'a': 1, 'b': 2, 'c': 3, 'd': 4}\n"
          ]
        }
      ]
    },
    {
      "cell_type": "markdown",
      "source": [
        "30. **Write a code to convert a list of strings into a set.**"
      ],
      "metadata": {
        "id": "dn8RbRfDdSiZ"
      }
    },
    {
      "cell_type": "code",
      "source": [
        "fruits = [\"apple\" ,\"banana\", \"watermelon\", \"orange\", \"kiwi\"]\n",
        "print(set(fruits))"
      ],
      "metadata": {
        "colab": {
          "base_uri": "https://localhost:8080/"
        },
        "id": "3lMX_cV-dcau",
        "outputId": "3aff7fc6-76d9-44cc-9238-af0511157c9e"
      },
      "execution_count": 49,
      "outputs": [
        {
          "output_type": "stream",
          "name": "stdout",
          "text": [
            "{'banana', 'kiwi', 'watermelon', 'orange', 'apple'}\n"
          ]
        }
      ]
    }
  ]
}